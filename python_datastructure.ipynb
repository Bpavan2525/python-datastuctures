{
  "nbformat": 4,
  "nbformat_minor": 0,
  "metadata": {
    "colab": {
      "provenance": []
    },
    "kernelspec": {
      "name": "python3",
      "display_name": "Python 3"
    },
    "language_info": {
      "name": "python"
    }
  },
  "cells": [
    {
      "cell_type": "markdown",
      "source": [
        "#Data Types and Structures Questions\n"
      ],
      "metadata": {
        "id": "iB0Cs7oCqUwv"
      }
    },
    {
      "cell_type": "markdown",
      "source": [
        "1. What are data structures, and why are they important?\n",
        "- they are way of organizing data and storing it so that it can be accessed and used efficiently.and they are important because storing data in different types like list, tuples, strings, and dictionaries..etc. makes it access faster and process quickly when needed.\n",
        "\n",
        "2. Explain the difference between mutable and immutable data types with examples.\n",
        "- mutable - list, dictionary, set (which can be modified once created)\n",
        "- immutable - tuple, frozenset, string (which cannot be modified once created).\n",
        "\n",
        "3. What are the main differences between lists and tuples in Python?\n",
        "- list can be modified(mutable) can add or delete values once created.\n",
        "- tuple cannot be modified(immutable) cannot add or delete values once created.\n",
        "\n",
        "4. Describe how dictionaries store data.\n",
        "- they store data in key-value pairs as key is a hashed value.\n",
        "\n",
        "5. Why might you use a set instead of a list in Python?\n",
        "- set contains unique and unordered elements which won't allow duplicate values into it. but, list allows duplicates and ordered so we can iterate over it for any type of operations.\n",
        "\n",
        "6. What is a string in Python, and how is it different from a list?\n",
        "- it is a series of characters which is used to define a data type, it is a form of iterating element to help us store the sequence of character and list is a container of elements.\n",
        "\n",
        "7. How do tuples ensure data integrity in Python?\n",
        "-  as tuples are immutable so it maintain data integrity and it is hashed and it does not contain dynamic memory allocation like list.\n",
        "\n",
        "8. What is a hash table, and how does it relate to dictionaries in Python?\n",
        "- it is data structure to store the key- value pairs as been used for very fast fetching of values when provided with the key in the hash function similarly we have key value pair in the dictionary as well where we provide key as a index to the dictionary object and we return the value but this the slow process.\n",
        "\n",
        "9. Can lists contain different data types in Python?\n",
        "- yes, lists can contain different data types.\n",
        "\n",
        "10. Explain why strings are immutable in Python.\n",
        "- strings are immutable in nature because it ensures data safety, and makes it hashable to be used as keys in dictionaries and strings makes the perfomance faster because immutable objects are optimized internally by python.\n",
        "\n",
        "11. What advantages do dictionaries offer over lists for certain tasks?\n",
        "- dictionaries offer key-value pairs over lists which are more easier while searching the values instead of searching the index like a list.\n",
        "\n",
        "12. Describe a scenario where using a tuple would be preferable over a list.\n",
        "- when we don't want the data to be modified or the data should be consistent and the time complexity of tuple is lesser compared to list so we can prefer tuple over a list at these particular times.\n",
        "\n",
        "13. How do sets handle duplicate values in Python?\n",
        "- sets are built with hash function like dictionaries and it checks with the hash value if it exists it ignores the value so sets have the nature to handle and remove duplicates in it.\n",
        "\n",
        "14. How does the in keyword work differently for lists and dictionaries?\n",
        "- the 'in' keyword used for membership operations but it works differently for both list and dictionaries\n",
        "- lists: it checks for values\n",
        "- dictionaries: it checks for keys\n",
        "\n",
        "15. Can you modify the elements of a tuple? Explain why or why not.\n",
        "- no, we can't modify the elements in a tuple becuase they are hashed values and tuple is an immutable data structure in python.\n",
        "\n",
        "16. What is a nested dictionary? Give an example of its use case.\n",
        "- a nested dictionary is nothing but a dictionary inside a dictionary\n",
        "- for ex: student_data={\"aman\":{'age':23, \"section\": \"A\"},\"gaurav\":{\"age\":23,\"section\":\"B\"}}\n",
        "- in here the nested dictionary contains 2 persons data.\n",
        "\n",
        "17. Describe the time complexity of accessing elements in a dictionary.\n",
        "- the time complexity of accessing elements in dictionary is O(1) because dictionary contains a hash table when dictionary is used it directly searches the hash value of that particular value in the memory and gives it.\n",
        "\n",
        "18. In what situations are lists preferred over dictionaries?\n",
        "- where we don't want key-value pairs and when we wanted to use slicing and duplicate values insertion.\n",
        "\n",
        "19. Why are dictionaries considered unordered, and how does that affect data retrieval?\n",
        "- dictionaries are not unordered at now , it was before python version 3.6 after this dictioanries became ordered.\n",
        "\n",
        "20. Explain the difference between a list and a dictionary in terms of data retrieval.\n",
        "- list can retrieved using indices and dictionaries can be retrieved using key"
      ],
      "metadata": {
        "id": "sXQbltJSrLNY"
      }
    },
    {
      "cell_type": "markdown",
      "source": [
        "#Practical Questions\n"
      ],
      "metadata": {
        "id": "Upd8wsa6U0HM"
      }
    },
    {
      "cell_type": "markdown",
      "source": [
        "1. Write a code to create a string with your name and print it.\n"
      ],
      "metadata": {
        "id": "hk6K4jDQUubG"
      }
    },
    {
      "cell_type": "code",
      "source": [
        "p=\"B pavan kumar\"\n",
        "print(p)"
      ],
      "metadata": {
        "colab": {
          "base_uri": "https://localhost:8080/"
        },
        "id": "GbUDn7-zUvzE",
        "outputId": "debeb82e-a261-4145-9179-c4541ce73563"
      },
      "execution_count": null,
      "outputs": [
        {
          "output_type": "stream",
          "name": "stdout",
          "text": [
            "B pavan kumar\n"
          ]
        }
      ]
    },
    {
      "cell_type": "markdown",
      "source": [
        "2. Write a code to find the length of the string \"Hello World\"."
      ],
      "metadata": {
        "id": "wqwWuVODU-rm"
      }
    },
    {
      "cell_type": "code",
      "source": [
        "s=\"Hello World\"\n",
        "print(len(s))"
      ],
      "metadata": {
        "colab": {
          "base_uri": "https://localhost:8080/"
        },
        "id": "zyj0-eQBbEsS",
        "outputId": "16f8c504-7c24-48b0-9b5c-561ab48bdc14"
      },
      "execution_count": null,
      "outputs": [
        {
          "output_type": "stream",
          "name": "stdout",
          "text": [
            "11\n"
          ]
        }
      ]
    },
    {
      "cell_type": "markdown",
      "source": [
        "3. Write a code to slice the first 3 characters from the string \"Python Programming\"."
      ],
      "metadata": {
        "id": "QNTUiO1iVCxk"
      }
    },
    {
      "cell_type": "code",
      "source": [
        "s=\"Python Programming\"\n",
        "print(s[3:])"
      ],
      "metadata": {
        "colab": {
          "base_uri": "https://localhost:8080/"
        },
        "id": "OE077gQKbOf4",
        "outputId": "8a6018ba-47c6-416c-9599-9eb54933b8b5"
      },
      "execution_count": null,
      "outputs": [
        {
          "output_type": "stream",
          "name": "stdout",
          "text": [
            "hon Programming\n"
          ]
        }
      ]
    },
    {
      "cell_type": "markdown",
      "source": [
        "4. Write a code to convert the string \"hello\" to uppercase.\n"
      ],
      "metadata": {
        "id": "DPHOJaMJVECx"
      }
    },
    {
      "cell_type": "code",
      "source": [
        "u=\"hello\"\n",
        "print(u.upper())"
      ],
      "metadata": {
        "colab": {
          "base_uri": "https://localhost:8080/"
        },
        "id": "DL8Nkfd9bZOs",
        "outputId": "c6a9a20a-b36d-4ad0-dd9c-257919808364"
      },
      "execution_count": null,
      "outputs": [
        {
          "output_type": "stream",
          "name": "stdout",
          "text": [
            "HELLO\n"
          ]
        }
      ]
    },
    {
      "cell_type": "markdown",
      "source": [
        "5. Write a code to replace the word \"apple\" with \"orange\" in the string \"I like apple\".\n"
      ],
      "metadata": {
        "id": "_iIDaN4iVMeW"
      }
    },
    {
      "cell_type": "code",
      "source": [
        "s= \"I like apple\"\n",
        "print(s.replace(\"apple\",\"orange\"))"
      ],
      "metadata": {
        "colab": {
          "base_uri": "https://localhost:8080/"
        },
        "id": "FfKLdXUnbfbN",
        "outputId": "b74f669a-5a41-4127-b808-44480b3d1bf9"
      },
      "execution_count": null,
      "outputs": [
        {
          "output_type": "stream",
          "name": "stdout",
          "text": [
            "I like orange\n"
          ]
        }
      ]
    },
    {
      "cell_type": "markdown",
      "source": [
        "6. Write a code to create a list with numbers from 1 to 5 and print it."
      ],
      "metadata": {
        "id": "DOCDKnzHVR3l"
      }
    },
    {
      "cell_type": "code",
      "source": [
        "l=[]\n",
        "for i in range(1,6):\n",
        "  l.append(i)\n",
        "print(l)"
      ],
      "metadata": {
        "colab": {
          "base_uri": "https://localhost:8080/"
        },
        "id": "INvQlx1tb2Af",
        "outputId": "bbe37417-bd37-4816-d7d8-d392022e67e9"
      },
      "execution_count": null,
      "outputs": [
        {
          "output_type": "stream",
          "name": "stdout",
          "text": [
            "[1, 2, 3, 4, 5]\n"
          ]
        }
      ]
    },
    {
      "cell_type": "markdown",
      "source": [
        "7. Write a code to append the number 10 to the list [1, 2, 3, 4]."
      ],
      "metadata": {
        "id": "ouTai0agVVaN"
      }
    },
    {
      "cell_type": "code",
      "source": [
        "l=[1,2,3,4]\n",
        "l.append(10)\n",
        "print(l)"
      ],
      "metadata": {
        "colab": {
          "base_uri": "https://localhost:8080/"
        },
        "id": "T4i8WNrWcgHd",
        "outputId": "861938b3-c7de-4013-a287-2edbce6de2e6"
      },
      "execution_count": null,
      "outputs": [
        {
          "output_type": "stream",
          "name": "stdout",
          "text": [
            "[1, 2, 3, 4, 10]\n"
          ]
        }
      ]
    },
    {
      "cell_type": "markdown",
      "source": [
        "8. Write a code to remove the number 3 from the list [1, 2, 3, 4, 5].\n",
        "\n"
      ],
      "metadata": {
        "id": "LT2lqdvGVIto"
      }
    },
    {
      "cell_type": "code",
      "source": [
        "l=[1,2,3,4,5]\n",
        "l.pop(2)\n",
        "print(l)"
      ],
      "metadata": {
        "colab": {
          "base_uri": "https://localhost:8080/"
        },
        "id": "fpIFwtKmc14z",
        "outputId": "b3a24582-b6bf-45a1-bf6d-2192d3d5561a"
      },
      "execution_count": null,
      "outputs": [
        {
          "output_type": "stream",
          "name": "stdout",
          "text": [
            "[1, 2, 4, 5]\n"
          ]
        }
      ]
    },
    {
      "cell_type": "markdown",
      "source": [
        "9. Write a code to access the second element in the list ['a', 'b', 'c', 'd']."
      ],
      "metadata": {
        "id": "fg_-aIfDVbOj"
      }
    },
    {
      "cell_type": "code",
      "source": [
        "l= ['a', 'b', 'c', 'd']\n",
        "print(l[1])"
      ],
      "metadata": {
        "colab": {
          "base_uri": "https://localhost:8080/"
        },
        "id": "8mSOHUkbdCfd",
        "outputId": "802d0d87-2ae3-49ea-a37a-7952c1c26659"
      },
      "execution_count": null,
      "outputs": [
        {
          "output_type": "stream",
          "name": "stdout",
          "text": [
            "b\n"
          ]
        }
      ]
    },
    {
      "cell_type": "markdown",
      "source": [
        "10. Write a code to reverse the list [10, 20, 30, 40, 50]."
      ],
      "metadata": {
        "id": "Wl5vDpXSVdot"
      }
    },
    {
      "cell_type": "code",
      "source": [
        "r=[10, 20, 30, 40, 50]\n",
        "s=[]\n",
        "for i in r:\n",
        "  s.insert(0,i)\n",
        "print(s)"
      ],
      "metadata": {
        "colab": {
          "base_uri": "https://localhost:8080/"
        },
        "id": "NLQNFjB5dK4Q",
        "outputId": "2952b98d-b1d5-47b6-e2a8-5af7f99e90e1"
      },
      "execution_count": null,
      "outputs": [
        {
          "output_type": "stream",
          "name": "stdout",
          "text": [
            "[50, 40, 30, 20, 10]\n"
          ]
        }
      ]
    },
    {
      "cell_type": "markdown",
      "source": [
        "11. Write a code to create a tuple with the elements 100, 200, 300 and print it.\n",
        "\n",
        "\n"
      ],
      "metadata": {
        "id": "2u0DkcVjqtdP"
      }
    },
    {
      "cell_type": "code",
      "source": [
        "n=(100,200,300)\n",
        "t=[100,200,300]\n",
        "t=tuple(n)\n",
        "print(n)\n",
        "print(t)\n"
      ],
      "metadata": {
        "colab": {
          "base_uri": "https://localhost:8080/"
        },
        "id": "3XEAhhRokc0s",
        "outputId": "662758f1-231e-4823-a7ef-0c83051dd10d"
      },
      "execution_count": null,
      "outputs": [
        {
          "output_type": "stream",
          "name": "stdout",
          "text": [
            "(100, 200, 300)\n",
            "(100, 200, 300)\n"
          ]
        }
      ]
    },
    {
      "cell_type": "markdown",
      "source": [
        "12. Write a code to access the second-to-last element of the tuple ('red', 'green', 'blue', 'yellow').\n",
        "\n"
      ],
      "metadata": {
        "id": "bS3YauYuVz0x"
      }
    },
    {
      "cell_type": "code",
      "source": [
        "t=('red', 'green', 'blue', 'yellow')\n",
        "print(t[-2])"
      ],
      "metadata": {
        "colab": {
          "base_uri": "https://localhost:8080/"
        },
        "id": "tIjpEfIXlDKn",
        "outputId": "77cb98c0-58d2-49d3-9067-e7e3f6c50b5f"
      },
      "execution_count": null,
      "outputs": [
        {
          "output_type": "stream",
          "name": "stdout",
          "text": [
            "blue\n"
          ]
        }
      ]
    },
    {
      "cell_type": "markdown",
      "source": [
        "13. Write a code to find the minimum number in the tuple (10, 20, 5, 15).\n",
        "\n"
      ],
      "metadata": {
        "id": "rEZNNmt4V714"
      }
    },
    {
      "cell_type": "code",
      "source": [
        "t= (10, 20, 5, 15)\n",
        "min_val=t[0]\n",
        "for i in t:\n",
        "  if i<min_val:\n",
        "    min_val=i\n",
        "print(min_val)"
      ],
      "metadata": {
        "colab": {
          "base_uri": "https://localhost:8080/"
        },
        "id": "4AvR-H6rlWlW",
        "outputId": "bb21467f-2e8b-4f6d-afb0-13dd95490349"
      },
      "execution_count": 113,
      "outputs": [
        {
          "output_type": "stream",
          "name": "stdout",
          "text": [
            "5\n"
          ]
        }
      ]
    },
    {
      "cell_type": "markdown",
      "source": [
        "14. Write a code to find the index of the element \"cat\" in the tuple ('dog', 'cat', 'rabbit').\n",
        "\n"
      ],
      "metadata": {
        "id": "xOGPPAO7WEUh"
      }
    },
    {
      "cell_type": "code",
      "source": [
        "t=('dog', 'cat', 'rabbit')\n",
        "print(t.index(\"cat\"))\n",
        "for i in t:\n",
        "  if i=='cat':\n",
        "    print(t.index(i))\n"
      ],
      "metadata": {
        "colab": {
          "base_uri": "https://localhost:8080/"
        },
        "id": "t6KogeJhoG1_",
        "outputId": "cbb79e7f-c227-49fa-b25f-4825642b2473"
      },
      "execution_count": 114,
      "outputs": [
        {
          "output_type": "stream",
          "name": "stdout",
          "text": [
            "1\n",
            "1\n"
          ]
        }
      ]
    },
    {
      "cell_type": "markdown",
      "source": [
        "15. Write a code to create a tuple containing three different fruits and check if \"kiwi\" is in it.\n",
        "\n",
        "\n"
      ],
      "metadata": {
        "id": "E_l83mRIWIKq"
      }
    },
    {
      "cell_type": "code",
      "source": [
        "t=('apple','kiwi','mango')\n",
        "if 'kiwi' in t:\n",
        "  print(\"kiwi is in the tuple\")\n",
        "else:\n",
        "  print(\"kiwi is not in the tuple\")"
      ],
      "metadata": {
        "colab": {
          "base_uri": "https://localhost:8080/"
        },
        "id": "UoWCOcRjoy8T",
        "outputId": "6df5713f-2250-4dfa-9029-7a83e5c1682c"
      },
      "execution_count": 115,
      "outputs": [
        {
          "output_type": "stream",
          "name": "stdout",
          "text": [
            "kiwi is in the tuple\n"
          ]
        }
      ]
    },
    {
      "cell_type": "markdown",
      "source": [
        "16. Write a code to create a set with the elements 'a', 'b', 'c' and print it.\n",
        "\n"
      ],
      "metadata": {
        "id": "ZwNHMDj-WLHH"
      }
    },
    {
      "cell_type": "code",
      "source": [
        "s={'a', 'b', 'c'}\n",
        "print(s)"
      ],
      "metadata": {
        "colab": {
          "base_uri": "https://localhost:8080/"
        },
        "id": "UBRzAj8WpbZs",
        "outputId": "8f745a10-a322-414d-b55e-157286bfc431"
      },
      "execution_count": 116,
      "outputs": [
        {
          "output_type": "stream",
          "name": "stdout",
          "text": [
            "{'b', 'a', 'c'}\n"
          ]
        }
      ]
    },
    {
      "cell_type": "markdown",
      "source": [
        "17. Write a code to clear all elements from the set {1, 2, 3, 4, 5}.\n",
        "\n"
      ],
      "metadata": {
        "id": "ANC9tYBqWPob"
      }
    },
    {
      "cell_type": "code",
      "source": [
        "s={1,2,3,4,5}\n",
        "s.clear()\n",
        "print(s)"
      ],
      "metadata": {
        "colab": {
          "base_uri": "https://localhost:8080/"
        },
        "id": "JAah_V5zpkQR",
        "outputId": "1c8b3f9d-2ef7-4b0b-ec82-84632c9195fa"
      },
      "execution_count": 117,
      "outputs": [
        {
          "output_type": "stream",
          "name": "stdout",
          "text": [
            "set()\n"
          ]
        }
      ]
    },
    {
      "cell_type": "markdown",
      "source": [
        "18. Write a code to remove the element 4 from the set {1, 2, 3, 4}.\n",
        "\n"
      ],
      "metadata": {
        "id": "-baY-9chWTcU"
      }
    },
    {
      "cell_type": "code",
      "source": [
        "s={1,2,3,4}\n",
        "s.discard(4)\n",
        "print(s)"
      ],
      "metadata": {
        "colab": {
          "base_uri": "https://localhost:8080/"
        },
        "id": "FkVAKFVmpwpP",
        "outputId": "8f38f03f-3281-4d8c-f701-380c5d77b5e1"
      },
      "execution_count": 118,
      "outputs": [
        {
          "output_type": "stream",
          "name": "stdout",
          "text": [
            "{1, 2, 3}\n"
          ]
        }
      ]
    },
    {
      "cell_type": "markdown",
      "source": [
        "19. Write a code to find the union of two sets {1, 2, 3} and {3, 4, 5}.\n",
        "\n"
      ],
      "metadata": {
        "id": "8AmkRR3IWW3x"
      }
    },
    {
      "cell_type": "code",
      "source": [
        "s1={1,2,3}\n",
        "s2={3,4,5}\n",
        "print(s1.union(s2))"
      ],
      "metadata": {
        "colab": {
          "base_uri": "https://localhost:8080/"
        },
        "id": "VGwJ5iRWp4r-",
        "outputId": "73bc6c05-d1e9-442d-bc98-42280136e0f1"
      },
      "execution_count": 119,
      "outputs": [
        {
          "output_type": "stream",
          "name": "stdout",
          "text": [
            "{1, 2, 3, 4, 5}\n"
          ]
        }
      ]
    },
    {
      "cell_type": "markdown",
      "source": [
        "20. Write a code to find the intersection of two sets {1, 2, 3} and {2, 3, 4}.\n",
        "\n"
      ],
      "metadata": {
        "id": "Z7PyVlpKWZ6p"
      }
    },
    {
      "cell_type": "code",
      "source": [
        "s1={1,2,3}\n",
        "s2={2,3,4}\n",
        "s1.intersection(s2)\n"
      ],
      "metadata": {
        "colab": {
          "base_uri": "https://localhost:8080/"
        },
        "id": "-Ad-Z3lZqEyr",
        "outputId": "afd00993-4c5e-4c29-e9fc-26a166412ec3"
      },
      "execution_count": 120,
      "outputs": [
        {
          "output_type": "execute_result",
          "data": {
            "text/plain": [
              "{2, 3}"
            ]
          },
          "metadata": {},
          "execution_count": 120
        }
      ]
    },
    {
      "cell_type": "markdown",
      "source": [
        "21. Write a code to create a dictionary with the keys \"name\", \"age\", and \"city\", and print it.\n",
        "\n"
      ],
      "metadata": {
        "id": "z_yAdf0gWc1u"
      }
    },
    {
      "cell_type": "code",
      "source": [
        "d={\"name\":\"pavan\", \"age\":23, \"city\":\"ohio\"}\n",
        "print(d)"
      ],
      "metadata": {
        "colab": {
          "base_uri": "https://localhost:8080/"
        },
        "id": "h10aMkCEqPCD",
        "outputId": "beb0632f-bf9b-4656-f3d2-212f8ecb832a"
      },
      "execution_count": 121,
      "outputs": [
        {
          "output_type": "stream",
          "name": "stdout",
          "text": [
            "{'name': 'pavan', 'age': 23, 'city': 'ohio'}\n"
          ]
        }
      ]
    },
    {
      "cell_type": "markdown",
      "source": [
        "22. Write a code to add a new key-value pair \"country\": \"USA\" to the dictionary {'name': 'John', 'age': 25}.\n",
        "\n"
      ],
      "metadata": {
        "id": "h65sQMckWfIX"
      }
    },
    {
      "cell_type": "code",
      "source": [
        "d={'name': 'John', 'age': 25}\n",
        "d.update({\"country\":\"USA\"})\n",
        "print(d)"
      ],
      "metadata": {
        "colab": {
          "base_uri": "https://localhost:8080/"
        },
        "id": "dy3G10BDqft7",
        "outputId": "d983fd82-5f86-4f2f-ad13-e75a3e841461"
      },
      "execution_count": 122,
      "outputs": [
        {
          "output_type": "stream",
          "name": "stdout",
          "text": [
            "{'name': 'John', 'age': 25, 'country': 'USA'}\n"
          ]
        }
      ]
    },
    {
      "cell_type": "markdown",
      "source": [
        "23. Write a code to access the value associated with the key \"name\" in the dictionary {'name': 'Alice', 'age': 30}.\n",
        "\n"
      ],
      "metadata": {
        "id": "e5xuikN6WiLK"
      }
    },
    {
      "cell_type": "code",
      "source": [
        "d={'name': 'Alice', 'age': 30}\n",
        "print(d[\"name\"])"
      ],
      "metadata": {
        "colab": {
          "base_uri": "https://localhost:8080/"
        },
        "id": "AA5cpHzBquAg",
        "outputId": "bc2139ce-ea05-41e7-8433-3f958ff23677"
      },
      "execution_count": 123,
      "outputs": [
        {
          "output_type": "stream",
          "name": "stdout",
          "text": [
            "Alice\n"
          ]
        }
      ]
    },
    {
      "cell_type": "markdown",
      "source": [
        "24. Write a code to remove the key \"age\" from the dictionary {'name': 'Bob', 'age': 22, 'city': 'New York'}.\n",
        "\n"
      ],
      "metadata": {
        "id": "9DkI8mNQWo1E"
      }
    },
    {
      "cell_type": "code",
      "source": [
        "d={'name': 'Bob', 'age': 22, 'city': 'New York'}\n",
        "d.pop('age')\n",
        "print(d)"
      ],
      "metadata": {
        "colab": {
          "base_uri": "https://localhost:8080/"
        },
        "id": "wyllZHonq4HM",
        "outputId": "26513648-f9f7-454d-d5f9-677d90b2009c"
      },
      "execution_count": 124,
      "outputs": [
        {
          "output_type": "stream",
          "name": "stdout",
          "text": [
            "{'name': 'Bob', 'city': 'New York'}\n"
          ]
        }
      ]
    },
    {
      "cell_type": "markdown",
      "source": [
        "25. Write a code to check if the key \"city\" exists in the dictionary {'name': 'Alice', 'city': 'Paris'}.\n",
        "\n"
      ],
      "metadata": {
        "id": "5hoPU-C-Ws6t"
      }
    },
    {
      "cell_type": "code",
      "source": [
        "d={'name': 'Alice', 'city': 'Paris'}\n",
        "if 'city' in d.keys():\n",
        "  print(d['city'] )\n"
      ],
      "metadata": {
        "colab": {
          "base_uri": "https://localhost:8080/"
        },
        "id": "ttkMJBoirN52",
        "outputId": "c322f6d3-fbfe-4871-afc7-80339cf5eec6"
      },
      "execution_count": 125,
      "outputs": [
        {
          "output_type": "stream",
          "name": "stdout",
          "text": [
            "Paris\n"
          ]
        }
      ]
    },
    {
      "cell_type": "markdown",
      "source": [
        "26. Write a code to create a list, a tuple, and a dictionary, and print them all.\n",
        "\n"
      ],
      "metadata": {
        "id": "AkH5JVdRWx4P"
      }
    },
    {
      "cell_type": "code",
      "source": [
        "l=[1,2,3,4]\n",
        "t=(1,2,3,4)\n",
        "d={'name': 'Alice', 'city': 'Paris'}\n",
        "print(l)\n",
        "print(t)\n",
        "print(d)"
      ],
      "metadata": {
        "colab": {
          "base_uri": "https://localhost:8080/"
        },
        "id": "ADi0iB_ur4a1",
        "outputId": "fa202f93-9a00-495b-dff1-0ffd0ab8eaea"
      },
      "execution_count": 126,
      "outputs": [
        {
          "output_type": "stream",
          "name": "stdout",
          "text": [
            "[1, 2, 3, 4]\n",
            "(1, 2, 3, 4)\n",
            "{'name': 'Alice', 'city': 'Paris'}\n"
          ]
        }
      ]
    },
    {
      "cell_type": "markdown",
      "source": [
        "27. Write a code to create a list of 5 random numbers between 1 and 100, sort it in ascending order, and print the result.\n",
        "\n"
      ],
      "metadata": {
        "id": "PnQycu_HW1RK"
      }
    },
    {
      "cell_type": "code",
      "source": [
        "import random\n",
        "l=[]\n",
        "i=1\n",
        "while i<=5:\n",
        "  l.append(random.randrange(1,101))\n",
        "  i+=1\n",
        "l.sort()\n",
        "print(l)"
      ],
      "metadata": {
        "colab": {
          "base_uri": "https://localhost:8080/"
        },
        "id": "6Xc_YcQpYQ0k",
        "outputId": "786421ff-ab64-47c8-f387-1cd75198739b"
      },
      "execution_count": 127,
      "outputs": [
        {
          "output_type": "stream",
          "name": "stdout",
          "text": [
            "[22, 59, 67, 72, 73]\n"
          ]
        }
      ]
    },
    {
      "cell_type": "markdown",
      "source": [
        "28. Write a code to create a list with strings and print the element at the third index.\n"
      ],
      "metadata": {
        "id": "oijghhadW38y"
      }
    },
    {
      "cell_type": "code",
      "source": [
        "l=[\"str1\",\"str2\",\"str3\",\"str4\"]\n",
        "print(l[3])"
      ],
      "metadata": {
        "colab": {
          "base_uri": "https://localhost:8080/"
        },
        "id": "t3E1dR37YGsO",
        "outputId": "456aa258-9a52-4bc2-d4d1-68617fd43491"
      },
      "execution_count": 128,
      "outputs": [
        {
          "output_type": "stream",
          "name": "stdout",
          "text": [
            "str4\n"
          ]
        }
      ]
    },
    {
      "cell_type": "markdown",
      "source": [
        "29. Write a code to combine two dictionaries into one and print the result.\n",
        "\n"
      ],
      "metadata": {
        "id": "rwpx0d3rW6l5"
      }
    },
    {
      "cell_type": "code",
      "source": [
        "dict1={\"a\":\"python\",\"b\":\"java\"}\n",
        "dict2={\"c\":\"c++\",\"d\":\"doctor\"}\n",
        "dict3=dict1|dict2\n",
        "print(dict3)"
      ],
      "metadata": {
        "colab": {
          "base_uri": "https://localhost:8080/"
        },
        "id": "oILNI1njXmCt",
        "outputId": "e9fe0d19-2a6f-4b31-b132-e9355e6bfb28"
      },
      "execution_count": 129,
      "outputs": [
        {
          "output_type": "stream",
          "name": "stdout",
          "text": [
            "{'a': 'python', 'b': 'java', 'c': 'c++', 'd': 'doctor'}\n"
          ]
        }
      ]
    },
    {
      "cell_type": "markdown",
      "source": [
        "30. Write a code to convert a list of strings into a set."
      ],
      "metadata": {
        "id": "yvnJfX92XEj2"
      }
    },
    {
      "cell_type": "code",
      "source": [
        "l=[\"str1\",\"str2\",\"str3\",\"str4\",\"str2\",\"str3\",\"str2\",\"str4\",\"str1\",\"str2\",\"str4\",\"str3\"]\n",
        "s=set(l)\n",
        "print(s)"
      ],
      "metadata": {
        "colab": {
          "base_uri": "https://localhost:8080/"
        },
        "id": "LzGqG9I2XLLs",
        "outputId": "9dd13c5b-5ec0-48d7-ca26-ac96d174a17f"
      },
      "execution_count": 130,
      "outputs": [
        {
          "output_type": "stream",
          "name": "stdout",
          "text": [
            "{'str3', 'str4', 'str2', 'str1'}\n"
          ]
        }
      ]
    }
  ]
}